{
 "cells": [
  {
   "cell_type": "markdown",
   "metadata": {},
   "source": [
    "# Question.1\n",
    "Write a program which takes 5 inputs from user for different subject’s marks, total it and generate mark sheet using grades ?\n",
    "\n"
   ]
  },
  {
   "cell_type": "code",
   "execution_count": 8,
   "metadata": {},
   "outputs": [
    {
     "name": "stdout",
     "output_type": "stream",
     "text": [
      "Marks out of 100:\n",
      "English=54\n",
      "Maths=98\n",
      "Stats=88\n",
      "General knowledge=63\n",
      "Calculus=87\n",
      "78.0\n",
      "Grade=A\n"
     ]
    }
   ],
   "source": [
    "x = \"Marks out of 100:\"\n",
    "print(x)\n",
    "eng = float(input(\"English=\"))\n",
    "maths = float(input(\"Maths=\"))\n",
    "stats = float(input(\"Stats=\"))\n",
    "gk = float(input(\"General knowledge=\"))\n",
    "calculus = float(input(\"Calculus=\"))\n",
    "if eng>100 or maths>100 or stats>100 or gk>100 or calculus>100:\n",
    "    print(\"You have given Inapropriat marks!\")\n",
    "if eng < 33:\n",
    "    print(\"Failed in Engish\")\n",
    "if maths< 33:\n",
    "    print(\"Failed in Maths\")\n",
    "if stats < 33:\n",
    "    print(\"Failed in Stats\")\n",
    "if gk< 33:\n",
    "    print(\"Failed in General knowledge\")\n",
    "if calculus < 33:\n",
    "    print(\"Failed in Calculus\")\n",
    "marks = eng + maths + stats + gk + calculus\n",
    "per = (marks / 500)*100\n",
    "print(per)\n",
    "if per >= 80 and per <=100:\n",
    "    print(\"Grade=A+\")\n",
    "elif per >= 70 and per <80:\n",
    "    print(\"Grade=A\")\n",
    "elif per >= 60 and per <70:\n",
    "    print(\"Grade=B\")\n",
    "elif per >= 50 and per <60:\n",
    "    print(\"Grade=C\")\n",
    "elif per >=40 and per <40:\n",
    "    print(\"Grade=D\")\n",
    "elif per >=30:\n",
    "    print(\"Grade=E\")\n",
    "elif per >= 0 and per <30:\n",
    "    print(\"Fail\")\n",
    "else:\n",
    "    print(\"You have given inappropriate information\")"
   ]
  },
  {
   "cell_type": "markdown",
   "metadata": {},
   "source": [
    "# Question.2\n",
    "Write a program which take input from user and identify that the given number is even or odd?"
   ]
  },
  {
   "cell_type": "code",
   "execution_count": 2,
   "metadata": {},
   "outputs": [
    {
     "name": "stdout",
     "output_type": "stream",
     "text": [
      "Enter a number:53\n",
      "Odd number\n"
     ]
    }
   ],
   "source": [
    "x= int(input(\"Enter a number:\"))\n",
    "if x%2 == 0:\n",
    "    print(\"Even number\")\n",
    "else:\n",
    "    print(\"Odd number\")"
   ]
  },
  {
   "cell_type": "markdown",
   "metadata": {},
   "source": [
    "# Question.3\n",
    "Write a program which print the length of the list?"
   ]
  },
  {
   "cell_type": "code",
   "execution_count": 3,
   "metadata": {},
   "outputs": [
    {
     "name": "stdout",
     "output_type": "stream",
     "text": [
      "Lenght of list is  4\n"
     ]
    }
   ],
   "source": [
    "list_ =[\"Tasbiha\", 89, 5.8 ,True]\n",
    "print(\"Lenght of list is \" , len(list_))"
   ]
  },
  {
   "cell_type": "markdown",
   "metadata": {},
   "source": [
    "# Question.4\n",
    "Write a Python program to sum all the numeric items in a list?"
   ]
  },
  {
   "cell_type": "code",
   "execution_count": 4,
   "metadata": {},
   "outputs": [
    {
     "data": {
      "text/plain": [
       "105.4"
      ]
     },
     "execution_count": 4,
     "metadata": {},
     "output_type": "execute_result"
    }
   ],
   "source": [
    "x= [1 ,5 ,9.4,90]\n",
    "sum(x)"
   ]
  },
  {
   "cell_type": "markdown",
   "metadata": {},
   "source": [
    "# Questio.5\n",
    "Write a Python program to get the largest number from a numeric list."
   ]
  },
  {
   "cell_type": "code",
   "execution_count": 5,
   "metadata": {},
   "outputs": [
    {
     "data": {
      "text/plain": [
       "363344821"
      ]
     },
     "execution_count": 5,
     "metadata": {},
     "output_type": "execute_result"
    }
   ],
   "source": [
    "a= [5442,363344821,0, 45, 244821,9903479]\n",
    "max(a)"
   ]
  },
  {
   "cell_type": "markdown",
   "metadata": {},
   "source": [
    "# Question.6\n",
    "Take a list, say for example this one:\n",
    "\n",
    "    a = [1, 1, 2, 3, 5, 8, 13, 21, 34, 55, 89] \n",
    "    \n",
    "and write a program that prints out all the elements of the list that are less than 5."
   ]
  },
  {
   "cell_type": "code",
   "execution_count": 11,
   "metadata": {},
   "outputs": [
    {
     "name": "stdout",
     "output_type": "stream",
     "text": [
      "1\n",
      "1\n",
      "2\n",
      "3\n",
      "2\n"
     ]
    }
   ],
   "source": [
    "a = [1, 1, 2, 3, 5, 8, 13, 2, 34, 55, 89]\n",
    "for i in a:\n",
    "    if i < 5:\n",
    "        print(i)"
   ]
  }
 ],
 "metadata": {
  "kernelspec": {
   "display_name": "Python 3",
   "language": "python",
   "name": "python3"
  },
  "language_info": {
   "codemirror_mode": {
    "name": "ipython",
    "version": 3
   },
   "file_extension": ".py",
   "mimetype": "text/x-python",
   "name": "python",
   "nbconvert_exporter": "python",
   "pygments_lexer": "ipython3",
   "version": "3.7.3"
  }
 },
 "nbformat": 4,
 "nbformat_minor": 2
}
