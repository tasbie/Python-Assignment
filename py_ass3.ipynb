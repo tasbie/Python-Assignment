{
 "cells": [
  {
   "cell_type": "markdown",
   "metadata": {},
   "source": [
    "# Question.1\n",
    "Make a calculator using Python with addition, subtraction, multiplication, division and power."
   ]
  },
  {
   "cell_type": "code",
   "execution_count": 1,
   "metadata": {},
   "outputs": [
    {
     "name": "stdout",
     "output_type": "stream",
     "text": [
      "Enter First value:8\n",
      "Enter Second value:4\n",
      "Enter  Operator:+\n",
      "12.0 answer\n"
     ]
    }
   ],
   "source": [
    "v1= float(input(\"Enter First value:\"))\n",
    "v2= float(input(\"Enter Second value:\"))\n",
    "operator = input(\"Enter  Operator:\")\n",
    "\n",
    "if operator == '+':\n",
    "    value= v1+v2\n",
    "    print(value, 'answer')\n",
    "elif operator == '-':\n",
    "    value= v1-v2\n",
    "    print(value, 'answer')\n",
    "elif operator == '*':\n",
    "    value= v1*v2\n",
    "    print(value, 'answer')\n",
    "elif operator == '/':\n",
    "    value= v1/v2\n",
    "    print(value, 'answer')\n",
    "elif operator == '**':\n",
    "    value= v1**v2\n",
    "    print(value, 'answer')\n",
    "else:\n",
    "    print('Incorrect operator!')"
   ]
  },
  {
   "cell_type": "markdown",
   "metadata": {},
   "source": [
    "# Question.2\n",
    "Write a program to check if there is any numeric value in list using for loop."
   ]
  },
  {
   "cell_type": "code",
   "execution_count": 2,
   "metadata": {},
   "outputs": [
    {
     "name": "stdout",
     "output_type": "stream",
     "text": [
      "Yes! there's a numberic value in list\n"
     ]
    }
   ],
   "source": [
    "mylist=[\"A\", \"B\", False,9.8]\n",
    "a = False\n",
    "for i in mylist:\n",
    "    if type(i) == int or type(i) == float:\n",
    "        a = True\n",
    "        break\n",
    "print(\"Yes! there's a numberic value in list\") if a else print(\"No! There is no numberic value in list\")"
   ]
  },
  {
   "cell_type": "markdown",
   "metadata": {},
   "source": [
    "# Question.3\n",
    "Write a Python script to add a key to a dictionary."
   ]
  },
  {
   "cell_type": "code",
   "execution_count": 3,
   "metadata": {},
   "outputs": [
    {
     "name": "stdout",
     "output_type": "stream",
     "text": [
      "Enter Key:key3\n",
      "Enter value:value3\n",
      "Dictionary: {'key1': 'value1', 'key2': 'value2', 'key3': 'value3'}\n"
     ]
    }
   ],
   "source": [
    "mydict = {'key1': 'value1', 'key2': 'value2'}\n",
    "key, value = input('Enter Key:'), input('Enter value:')\n",
    "mydict[key] = value\n",
    "print('Dictionary:', mydict)"
   ]
  },
  {
   "cell_type": "markdown",
   "metadata": {},
   "source": [
    "# Question.4\n",
    "Write a Python program to sum all the numeric items in a dictionary."
   ]
  },
  {
   "cell_type": "code",
   "execution_count": 5,
   "metadata": {},
   "outputs": [
    {
     "name": "stdout",
     "output_type": "stream",
     "text": [
      "Total = 7\n"
     ]
    }
   ],
   "source": [
    "total = 0\n",
    "dictionary = {'key1': 1, 'key2': 2, 'key3': 'value3', 'key4': 4}\n",
    "for value in dictionary.values():\n",
    "    if type(value) == int or type(value) == float:\n",
    "        total += value\n",
    "print('Total =', total)"
   ]
  },
  {
   "cell_type": "markdown",
   "metadata": {},
   "source": [
    "# Question.5\n",
    "Write a program to identify duplicate values from list."
   ]
  },
  {
   "cell_type": "code",
   "execution_count": 6,
   "metadata": {},
   "outputs": [
    {
     "name": "stdout",
     "output_type": "stream",
     "text": [
      "Duplicates: ['Aa', 'C']\n"
     ]
    }
   ],
   "source": [
    "mylist = ['A', 'Aa', 'C', 'Aa', 'B', 'Z', 'C', 'M']\n",
    "duplicates = []\n",
    "copied_list = mylist[:]\n",
    "for i in mylist:\n",
    "    copied_list.remove(i)\n",
    "    if i in copied_list:\n",
    "        duplicates.append(i)\n",
    "print('Duplicates:', duplicates)"
   ]
  },
  {
   "cell_type": "markdown",
   "metadata": {},
   "source": [
    "# Question.6\n",
    "Write a Python script to check if a given key already exists in a dictionary."
   ]
  },
  {
   "cell_type": "code",
   "execution_count": 8,
   "metadata": {},
   "outputs": [
    {
     "name": "stdout",
     "output_type": "stream",
     "text": [
      "Enter Key: key2\n",
      "Enter value: M\n",
      "key2 already exist in dictionary!\n",
      "Dictionary: {'key1': 'value1', 'key2': 'value2'}\n"
     ]
    }
   ],
   "source": [
    "mydictionary = {'key1': 'value1', 'key2': 'value2'}\n",
    "key, value = input('Enter Key: '), input('Enter value: ')\n",
    "if key in mydictionary.keys():\n",
    "    print('{} already exist in dictionary!'.format(key))\n",
    "else:\n",
    "    mydictionary[key] = value\n",
    "print('Dictionary:', mydictionary)"
   ]
  }
 ],
 "metadata": {
  "kernelspec": {
   "display_name": "Python 3",
   "language": "python",
   "name": "python3"
  },
  "language_info": {
   "codemirror_mode": {
    "name": "ipython",
    "version": 3
   },
   "file_extension": ".py",
   "mimetype": "text/x-python",
   "name": "python",
   "nbconvert_exporter": "python",
   "pygments_lexer": "ipython3",
   "version": "3.7.3"
  }
 },
 "nbformat": 4,
 "nbformat_minor": 2
}
